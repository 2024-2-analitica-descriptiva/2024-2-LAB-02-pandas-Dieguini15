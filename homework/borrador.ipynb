{
 "cells": [
  {
   "cell_type": "markdown",
   "metadata": {},
   "source": [
    "Pregunta 4\n",
    "\n",
    "groupby('c1'): Agrupa las filas del DataFrame por los valores únicos de la columna c1.\n",
    "['c2'].mean(): Calcula el promedio de la columna c2 dentro de cada grupo definido por c1.\n"
   ]
  },
  {
   "cell_type": "markdown",
   "metadata": {},
   "source": [
    "pregunta 6\n",
    "\n",
    "dropna(): Elimina los valores NaN (valores nulos) de la columna para evitar errores.\n",
    "str.upper(): Convierte todos los valores de texto a mayúsculas.\n",
    "unique(): Obtiene los valores únicos de la columna.\n",
    "\n"
   ]
  },
  {
   "cell_type": "markdown",
   "metadata": {},
   "source": [
    "pregunta 7\n",
    "\n",
    "groupby('c1'): Agrupa las filas del DataFrame según los valores únicos en la columna c1.\n",
    "['c2'].sum(): Dentro de cada grupo creado por groupby, se calcula la suma de la columna c2."
   ]
  },
  {
   "cell_type": "code",
   "execution_count": null,
   "metadata": {
    "vscode": {
     "languageId": "plaintext"
    }
   },
   "outputs": [],
   "source": [
    "Pregunta 8\n",
    "to_csv: para exportar el DataFrame a un archivo TSV con el\n",
    "index=False:  evita que se incluya un índice numérico en la columna de la izquierda."
   ]
  },
  {
   "cell_type": "markdown",
   "metadata": {},
   "source": [
    "Pregunta 10\n",
    "map(str, x): Convierte todos los valores de c2 en strings.\n",
    "':'.join(...): Une los valores con el separador :\n",
    "reset_index(): Convierte el índice c1 nuevamente en una columna.\n"
   ]
  }
 ],
 "metadata": {
  "language_info": {
   "name": "python"
  }
 },
 "nbformat": 4,
 "nbformat_minor": 2
}
